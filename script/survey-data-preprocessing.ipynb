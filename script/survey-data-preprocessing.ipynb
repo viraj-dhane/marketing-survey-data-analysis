{
 "cells": [
  {
   "cell_type": "code",
   "execution_count": 1,
   "id": "68284851",
   "metadata": {},
   "outputs": [],
   "source": [
    "#Import necessary libraries\n",
    "import pandas as pd"
   ]
  },
  {
   "cell_type": "code",
   "execution_count": 2,
   "id": "3202c8a7",
   "metadata": {},
   "outputs": [],
   "source": [
    "#Load the raw data\n",
    "df = pd.read_excel(\"Raw_Data.xlsx\")"
   ]
  },
  {
   "cell_type": "code",
   "execution_count": 3,
   "id": "ee5402f9",
   "metadata": {},
   "outputs": [],
   "source": [
    "#Drop records having null values\n",
    "df = df.dropna()\n",
    "\n",
    "#df.to_csv('dropna.csv')"
   ]
  },
  {
   "cell_type": "code",
   "execution_count": 4,
   "id": "191be227",
   "metadata": {},
   "outputs": [
    {
     "name": "stdout",
     "output_type": "stream",
     "text": [
      "(42, 3)\n"
     ]
    }
   ],
   "source": [
    "print(df.shape)"
   ]
  },
  {
   "cell_type": "code",
   "execution_count": 5,
   "id": "26212042",
   "metadata": {},
   "outputs": [],
   "source": [
    "#Define response options based on questionnaire\n",
    "response_options = [\"Comfortable and Clean Rooms\",\n",
    "                    \"Delicious Breakfast\",\n",
    "                    \"Fast and Reliable Wi-Fi\",\n",
    "                    \"Friendly and Helpful Staff\",\n",
    "                    \"Quiet and Restful Environment\",\n",
    "                    \"Modern Fitness Facilities\",\n",
    "                    \"Family-Friendly Services\",\n",
    "                    \"Business Amenities\",\n",
    "                    \"Easy Parking & Check-in\",\n",
    "                    \"Stylish Interior Design\",\n",
    "                    \"Reservation & Communication\"\n",
    "                   ]"
   ]
  },
  {
   "cell_type": "code",
   "execution_count": 6,
   "id": "87dbc570",
   "metadata": {},
   "outputs": [],
   "source": [
    "# Clean and split responses into lists\n",
    "# Remove any leading and trailing whitespace from semicolon-separated strings and returns a list of responses.\n",
    "\n",
    "def trim_responses(df_column):\n",
    "    return df_column.apply(\n",
    "        lambda x: [response.strip() for response in str(x).split(';')] if pd.notnull(x) else []\n",
    "    )\n",
    "\n",
    "# Apply function to both check-in and check-out, and save to a single DataFrame\n",
    "cleaned_responses_df = pd.DataFrame({\n",
    "    \"Customer\": df[\"Customer\"],\n",
    "    \"Cleaned_CheckIn_Responses\": trim_responses(df[\"Check-In Questionnaire: What persuaded you to choose our hotel for your stay?\"]),\n",
    "    \"Cleaned_CheckOut_Responses\": trim_responses(df[\"Check-Out Questionnaire: What impressed you the most during your stay?\"])\n",
    "})"
   ]
  },
  {
   "cell_type": "code",
   "execution_count": 7,
   "id": "ef01a31b",
   "metadata": {},
   "outputs": [
    {
     "name": "stdout",
     "output_type": "stream",
     "text": [
      "\n",
      "Customers with Invalid Responses: 0\n",
      "\n",
      "Customers with Invalid Responses: 0\n"
     ]
    }
   ],
   "source": [
    "# Function to validate cleaned responses\n",
    "# Check for typos or inconsistent responses\n",
    "\n",
    "def validate_responses(df_column, valid_options, customer_column):\n",
    "    invalid_response_customers = 0\n",
    "    for idx, responses in df_column.items():\n",
    "        invalid = [resp for resp in responses if resp not in valid_options]\n",
    "        if invalid:\n",
    "            customer = customer_column[idx]\n",
    "            print(f\"Customer: {customer} | Invalid Responses: {invalid}\")\n",
    "            invalid_response_customers += 1\n",
    "    print(f\"\\nCustomers with Invalid Responses: {invalid_response_customers}\")\n",
    "\n",
    "# Validate Check-In responses\n",
    "validate_responses(\n",
    "    cleaned_responses_df[\"Cleaned_CheckIn_Responses\"],\n",
    "    response_options,\n",
    "    cleaned_responses_df[\"Customer\"]\n",
    ")\n",
    "\n",
    "# Validate Check-Out responses\n",
    "validate_responses(\n",
    "    cleaned_responses_df[\"Cleaned_CheckOut_Responses\"],\n",
    "    response_options,\n",
    "    cleaned_responses_df[\"Customer\"]\n",
    ")"
   ]
  },
  {
   "cell_type": "code",
   "execution_count": 8,
   "id": "608f3e50",
   "metadata": {},
   "outputs": [],
   "source": [
    "# Perform one-hot encoding\n",
    "\n",
    "# Function to convert cleaned list of responses into a semicolon-separated string (for get_dummies)\n",
    "def join_responses(response_series):\n",
    "    return response_series.apply(lambda x: ';'.join(x))\n",
    "\n",
    "# Join cleaned response lists back into strings\n",
    "checkin_responses = join_responses(cleaned_responses_df[\"Cleaned_CheckIn_Responses\"])\n",
    "checkout_responses = join_responses(cleaned_responses_df[\"Cleaned_CheckOut_Responses\"])\n",
    "\n",
    "checkin_onehot_df = checkin_responses.str.get_dummies(sep=';').reindex(columns=response_options, fill_value=0)\n",
    "checkout_onehot_df = checkout_responses.str.get_dummies(sep=';').reindex(columns=response_options, fill_value=0)"
   ]
  },
  {
   "cell_type": "code",
   "execution_count": 9,
   "id": "bbfd9046",
   "metadata": {},
   "outputs": [],
   "source": [
    "# Aggregate (sum) the binary values\n",
    "checkin_response_count = checkin_onehot_df.sum().rename(\"Check-In Response Count\")\n",
    "checkout_response_count = checkout_onehot_df.sum().rename(\"Check-Out Response Count\")"
   ]
  },
  {
   "cell_type": "code",
   "execution_count": 10,
   "id": "f002b4b7",
   "metadata": {},
   "outputs": [
    {
     "name": "stdout",
     "output_type": "stream",
     "text": [
      "                               Check-In Response Count  \\\n",
      "Quiet and Restful Environment                       33   \n",
      "Comfortable and Clean Rooms                         24   \n",
      "Fast and Reliable Wi-Fi                             24   \n",
      "Delicious Breakfast                                 23   \n",
      "Modern Fitness Facilities                           22   \n",
      "Business Amenities                                  16   \n",
      "Friendly and Helpful Staff                          15   \n",
      "Family-Friendly Services                            11   \n",
      "Easy Parking & Check-in                             10   \n",
      "Stylish Interior Design                             10   \n",
      "Reservation & Communication                         10   \n",
      "\n",
      "                               Check-Out Response Count  Difference  \n",
      "Quiet and Restful Environment                        32          -1  \n",
      "Comfortable and Clean Rooms                          10         -14  \n",
      "Fast and Reliable Wi-Fi                              21          -3  \n",
      "Delicious Breakfast                                  16          -7  \n",
      "Modern Fitness Facilities                             9         -13  \n",
      "Business Amenities                                   10          -6  \n",
      "Friendly and Helpful Staff                            8          -7  \n",
      "Family-Friendly Services                              3          -8  \n",
      "Easy Parking & Check-in                               2          -8  \n",
      "Stylish Interior Design                               1          -9  \n",
      "Reservation & Communication                           7          -3  \n"
     ]
    }
   ],
   "source": [
    "# Comparison\n",
    "comparison_df = pd.concat([checkin_response_count, checkout_response_count], axis=1)\n",
    "comparison_df[\"Difference\"] = comparison_df[\"Check-Out Response Count\"] - comparison_df[\"Check-In Response Count\"]\n",
    "comparison_df.sort_values(\"Check-In Response Count\", ascending=False, inplace=True)\n",
    "\n",
    "print(comparison_df)"
   ]
  },
  {
   "cell_type": "code",
   "execution_count": 11,
   "id": "1def805d",
   "metadata": {},
   "outputs": [],
   "source": [
    "#Save the results\n",
    "comparison_df.to_csv('response_comparison.csv')"
   ]
  }
 ],
 "metadata": {
  "kernelspec": {
   "display_name": "Python 3 (ipykernel)",
   "language": "python",
   "name": "python3"
  },
  "language_info": {
   "codemirror_mode": {
    "name": "ipython",
    "version": 3
   },
   "file_extension": ".py",
   "mimetype": "text/x-python",
   "name": "python",
   "nbconvert_exporter": "python",
   "pygments_lexer": "ipython3",
   "version": "3.11.4"
  }
 },
 "nbformat": 4,
 "nbformat_minor": 5
}
